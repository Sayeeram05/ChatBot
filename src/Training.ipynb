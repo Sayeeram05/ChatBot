{
 "cells": [
  {
   "cell_type": "code",
   "execution_count": 16,
   "id": "8e9771f0-e266-4d84-8058-c1edb58d7899",
   "metadata": {},
   "outputs": [],
   "source": [
    "import import_ipynb"
   ]
  },
  {
   "cell_type": "code",
   "execution_count": 17,
   "id": "6b089ecc-f6b0-41ec-a66c-e29b6ff3ce37",
   "metadata": {},
   "outputs": [],
   "source": [
    "%run NLTK.ipynb import Tokenize,LoweringStemming,BagOfWord  # Use %run to import other jupyte notebook file"
   ]
  },
  {
   "cell_type": "code",
   "execution_count": 18,
   "id": "b748ae07-0e43-4ffe-83f3-1abdde61bd8c",
   "metadata": {},
   "outputs": [],
   "source": [
    "AllWords = []\n",
    "Tags = []\n",
    "XY = []\n",
    "\n",
    "XTrain = []\n",
    "YTrain = []"
   ]
  },
  {
   "cell_type": "code",
   "execution_count": 19,
   "id": "b55464f8-1957-41d5-85a9-9d4c574992af",
   "metadata": {
    "scrolled": true
   },
   "outputs": [
    {
     "data": {
      "text/plain": [
       "{'Data': [{'tag': 'start',\n",
       "   'patterns': ['Hi',\n",
       "    'Hello',\n",
       "    'Hey',\n",
       "    'Namaste',\n",
       "    'How are you?',\n",
       "    'Is anyone there?',\n",
       "    'Good day',\n",
       "    'Hi there',\n",
       "    'Hey there',\n",
       "    \"What's up?\",\n",
       "    'Howdy',\n",
       "    'Greetings',\n",
       "    'Morning!',\n",
       "    'Afternoon!',\n",
       "    'Evening!',\n",
       "    'Hello ji',\n",
       "    'Hiya!',\n",
       "    'Yo!',\n",
       "    'Whatâ€™s cooking?',\n",
       "    'Howâ€™s it going?',\n",
       "    'Nice to meet you!',\n",
       "    'Kya haal hai?',\n",
       "    'Sab theek?',\n",
       "    'Hello bhai',\n",
       "    'Kaise ho?'],\n",
       "   'responses': ['Hello! How can I assist you today?',\n",
       "    'Hi there! What can I do for you?',\n",
       "    'Hey! How can I help?',\n",
       "    'Namaste! What brings you here today?',\n",
       "    'Hi! How can I make your day better?']},\n",
       "  {'tag': 'stop',\n",
       "   'patterns': ['Bye',\n",
       "    'See you later',\n",
       "    'Goodbye',\n",
       "    'Thanks for the help',\n",
       "    'Take care',\n",
       "    'Catch you later',\n",
       "    'Talk to you soon',\n",
       "    'Farewell',\n",
       "    'Have a great day',\n",
       "    'See you soon',\n",
       "    'Later',\n",
       "    'Iâ€™m off',\n",
       "    'Iâ€™m out',\n",
       "    'See ya',\n",
       "    'Until next time',\n",
       "    'Good night',\n",
       "    'Bye for now',\n",
       "    'Take it easy',\n",
       "    'Peace out',\n",
       "    'Adios',\n",
       "    'Iâ€™m heading out',\n",
       "    'Talk later',\n",
       "    'Gotta go',\n",
       "    'See you around',\n",
       "    'Be well'],\n",
       "   'responses': ['See you later! Thanks for stopping by.',\n",
       "    'Goodbye! Have a great day.',\n",
       "    'Take care! Looking forward to our next chat.',\n",
       "    'Farewell! Come back anytime.',\n",
       "    'Bye for now! Stay safe.']},\n",
       "  {'tag': 'biryani',\n",
       "   'patterns': ['Where can I get the best biryani?',\n",
       "    'Recommend a place for biryani.',\n",
       "    'Top spots for biryani near me.',\n",
       "    'Where can I find delicious biryani?',\n",
       "    'Best biryani in town?',\n",
       "    'Can you suggest a good biryani place?',\n",
       "    'Which restaurant serves the best biryani?',\n",
       "    'Where to eat biryani around here?',\n",
       "    'Top-rated biryani places nearby?',\n",
       "    'Whatâ€™s the best spot for biryani?',\n",
       "    'Where should I go for biryani?',\n",
       "    'Where can I get authentic biryani?',\n",
       "    'Biryani restaurants near me?',\n",
       "    'Any famous biryani spots around?',\n",
       "    'Where can I find spicy biryani?',\n",
       "    'Top places for biryani in this area?',\n",
       "    'Suggest some good biryani restaurants.',\n",
       "    'Which biryani place do you recommend?',\n",
       "    'Where to find the best biryani in town?',\n",
       "    'Can you recommend a top biryani spot?'],\n",
       "   'responses': [['Here are some popular biryani spots you might enjoy:',\n",
       "     '1. Dindigul Thalappakatti',\n",
       "     '2. Anjappar Chettinad Restaurant',\n",
       "     '3. Buhari Hotel',\n",
       "     '4. Ambur Star Biryani',\n",
       "     '5. Paradise Biryani',\n",
       "     '6. Thalappakatti Biryani',\n",
       "     '7. Biryani House',\n",
       "     '8. Kumarakom',\n",
       "     '9. Zaitoon',\n",
       "     '10. Sahasra Biryani'],\n",
       "    ['Check out these great places for biryani:',\n",
       "     '1. Dindigul Thalappakatti',\n",
       "     '2. Anjappar Chettinad Restaurant',\n",
       "     '3. Buhari Hotel',\n",
       "     '4. Ambur Star Biryani',\n",
       "     '5. Paradise Biryani',\n",
       "     '6. Thalappakatti Biryani',\n",
       "     '7. Biryani House',\n",
       "     '8. Kumarakom',\n",
       "     '9. Zaitoon',\n",
       "     '10. Sahasra Biryani'],\n",
       "    ['You might enjoy these top biryani spots:',\n",
       "     '1. Dindigul Thalappakatti',\n",
       "     '2. Anjappar Chettinad Restaurant',\n",
       "     '3. Buhari Hotel',\n",
       "     '4. Ambur Star Biryani',\n",
       "     '5. Paradise Biryani',\n",
       "     '6. Thalappakatti Biryani',\n",
       "     '7. Biryani House',\n",
       "     '8. Kumarakom',\n",
       "     '9. Zaitoon',\n",
       "     '10. Sahasra Biryani'],\n",
       "    ['Here are some top-rated biryani places:',\n",
       "     '1. Dindigul Thalappakatti',\n",
       "     '2. Anjappar Chettinad Restaurant',\n",
       "     '3. Buhari Hotel',\n",
       "     '4. Ambur Star Biryani',\n",
       "     '5. Paradise Biryani',\n",
       "     '6. Thalappakatti Biryani',\n",
       "     '7. Biryani House',\n",
       "     '8. Kumarakom',\n",
       "     '9. Zaitoon',\n",
       "     '10. Sahasra Biryani'],\n",
       "    ['These biryani spots come highly recommended:',\n",
       "     '1. Dindigul Thalappakatti',\n",
       "     '2. Anjappar Chettinad Restaurant',\n",
       "     '3. Buhari Hotel',\n",
       "     '4. Ambur Star Biryani',\n",
       "     '5. Paradise Biryani',\n",
       "     '6. Thalappakatti Biryani',\n",
       "     '7. Biryani House',\n",
       "     '8. Kumarakom',\n",
       "     '9. Zaitoon',\n",
       "     '10. Sahasra Biryani']]},\n",
       "  {'tag': 'NorthIndian_restaurant',\n",
       "   'patterns': ['way to good North Indian restaurant?',\n",
       "    'Can you recommend a North Indian restaurant?',\n",
       "    'What are the top North Indian restaurants around?',\n",
       "    'List some popular North Indian restaurants',\n",
       "    'Tell me about some North Indian eateries',\n",
       "    'Which North Indian restaurants are the best?',\n",
       "    'Where should I go for North Indian food?',\n",
       "    'Give me a list of top North Indian restaurants',\n",
       "    'Whatâ€™s the best North Indian restaurant here?',\n",
       "    'Top ten North Indian restaurants nearby',\n",
       "    'What are the top North Indian restaurants in town?',\n",
       "    'Where can I enjoy North Indian cuisine?',\n",
       "    'Suggest some top North Indian restaurants',\n",
       "    'List some top North Indian places',\n",
       "    'Can you suggest top North Indian eateries?',\n",
       "    'Where do you recommend for North Indian food?',\n",
       "    'What are some good North Indian dining options?',\n",
       "    'Where can I find the top North Indian restaurants?',\n",
       "    'Top 10 North Indian restaurants near me',\n",
       "    'What are the best North Indian spots here?'],\n",
       "   'responses': [['Here are some top North Indian restaurants you might enjoy:',\n",
       "     '1. Golcondas',\n",
       "     '2. Taj Restaurant',\n",
       "     '3. Al Sham',\n",
       "     '4. Daalchini',\n",
       "     '5. The 7Eleven',\n",
       "     '6. Del D',\n",
       "     '7. XO Kitchen',\n",
       "     '8. Blanc cafe',\n",
       "     '9. Pool View',\n",
       "     '10. Singh chulha'],\n",
       "    ['Check out these popular North Indian restaurants:',\n",
       "     '1. Golcondas',\n",
       "     '2. Taj Restaurant',\n",
       "     '3. Al Sham',\n",
       "     '4. Daalchini',\n",
       "     '5. The 7Eleven',\n",
       "     '6. Del D',\n",
       "     '7. XO Kitchen',\n",
       "     '8. Blanc cafe',\n",
       "     '9. Pool View',\n",
       "     '10. Singh chulha'],\n",
       "    ['You might like these top North Indian spots:',\n",
       "     '1. Golcondas',\n",
       "     '2. Taj Restaurant',\n",
       "     '3. Al Sham',\n",
       "     '4. Daalchini',\n",
       "     '5. The 7Eleven',\n",
       "     '6. Del D',\n",
       "     '7. XO Kitchen',\n",
       "     '8. Blanc cafe',\n",
       "     '9. Pool View',\n",
       "     '10. Singh chulha'],\n",
       "    ['Here are some highly recommended North Indian restaurants:',\n",
       "     '1. Golcondas',\n",
       "     '2. Taj Restaurant',\n",
       "     '3. Al Sham',\n",
       "     '4. Daalchini',\n",
       "     '5. The 7Eleven',\n",
       "     '6. Del D',\n",
       "     '7. XO Kitchen',\n",
       "     '8. Blanc cafe',\n",
       "     '9. Pool View',\n",
       "     '10. Singh chulha'],\n",
       "    ['These are the top-rated North Indian restaurants:',\n",
       "     '1. Golcondas',\n",
       "     '2. Taj Restaurant',\n",
       "     '3. Al Sham',\n",
       "     '4. Daalchini',\n",
       "     '5. The 7Eleven',\n",
       "     '6. Del D',\n",
       "     '7. XO Kitchen',\n",
       "     '8. Blanc cafe',\n",
       "     '9. Pool View',\n",
       "     '10. Singh chulha']]}]}"
      ]
     },
     "execution_count": 19,
     "metadata": {},
     "output_type": "execute_result"
    }
   ],
   "source": [
    "import json\n",
    "with open(\"TestData.json\", \"r\") as F:\n",
    "    intents = json.load(F)\n",
    "intents"
   ]
  },
  {
   "cell_type": "code",
   "execution_count": 20,
   "id": "8080327a-ca3d-4a75-8626-c91f32104ba0",
   "metadata": {},
   "outputs": [
    {
     "data": {
      "text/plain": [
       "0"
      ]
     },
     "execution_count": 20,
     "metadata": {},
     "output_type": "execute_result"
    }
   ],
   "source": [
    "len(Tags)"
   ]
  },
  {
   "cell_type": "code",
   "execution_count": 21,
   "id": "29edfd82-11d1-4b77-85cb-09791b4df5db",
   "metadata": {
    "scrolled": true
   },
   "outputs": [
    {
     "name": "stdout",
     "output_type": "stream",
     "text": [
      "AllWords :  123\n"
     ]
    }
   ],
   "source": [
    "for intent in intents[\"Data\"]:\n",
    "    Tag = intent[\"tag\"]\n",
    "    Tags.append(Tag)\n",
    "    for Pattern in intent[\"patterns\"]:\n",
    "        Words = Tokenize(Pattern)\n",
    "        Words = [LoweringStemming(Stem) for Stem in Words if(Stem not in [\"?\",\"!\",\".\",\",\",\"'s\"])]\n",
    "        AllWords.extend(Words)  #Words is a list\n",
    "        XY.append((Words,Tag))\n",
    "        #print(Words)\n",
    "\n",
    "AllWords = sorted(set(AllWords)) #Set() for remove duplicate\n",
    "print(\"AllWords : \",len(AllWords))\n",
    "#print(\"XY : \",XY)"
   ]
  },
  {
   "cell_type": "code",
   "execution_count": 22,
   "id": "d15d40a0-23a7-4cc1-b9d9-7690fc8eda08",
   "metadata": {},
   "outputs": [],
   "source": [
    "import numpy as np\n",
    "for (Pattern,Tag) in XY:\n",
    "    XTrain.append(BagOfWord(Pattern,AllWords))\n",
    "    YTrain.append(Tags.index(Tag))  \n",
    "XTrain = np.array(XTrain)\n",
    "YTrain = np.array(YTrain)"
   ]
  },
  {
   "cell_type": "code",
   "execution_count": 23,
   "id": "250d9d95-b2d0-4a6e-9973-6f2c2028ea6e",
   "metadata": {},
   "outputs": [
    {
     "data": {
      "text/plain": [
       "array([[0., 0., 0., ..., 0., 0., 0.],\n",
       "       [0., 0., 0., ..., 0., 0., 0.],\n",
       "       [0., 0., 0., ..., 0., 0., 0.],\n",
       "       ...,\n",
       "       [0., 0., 0., ..., 0., 0., 0.],\n",
       "       [1., 0., 0., ..., 0., 0., 0.],\n",
       "       [0., 0., 0., ..., 0., 0., 0.]], dtype=float32)"
      ]
     },
     "execution_count": 23,
     "metadata": {},
     "output_type": "execute_result"
    }
   ],
   "source": [
    "XTrain"
   ]
  },
  {
   "cell_type": "code",
   "execution_count": 24,
   "id": "59087afd-cd89-4f12-99a9-af79755752cd",
   "metadata": {},
   "outputs": [
    {
     "data": {
      "text/plain": [
       "array([0, 0, 0, 0, 0, 0, 0, 0, 0, 0, 0, 0, 0, 0, 0, 0, 0, 0, 0, 0, 0, 0,\n",
       "       0, 0, 0, 1, 1, 1, 1, 1, 1, 1, 1, 1, 1, 1, 1, 1, 1, 1, 1, 1, 1, 1,\n",
       "       1, 1, 1, 1, 1, 1, 2, 2, 2, 2, 2, 2, 2, 2, 2, 2, 2, 2, 2, 2, 2, 2,\n",
       "       2, 2, 2, 2, 3, 3, 3, 3, 3, 3, 3, 3, 3, 3, 3, 3, 3, 3, 3, 3, 3, 3,\n",
       "       3, 3])"
      ]
     },
     "execution_count": 24,
     "metadata": {},
     "output_type": "execute_result"
    }
   ],
   "source": [
    "YTrain"
   ]
  },
  {
   "cell_type": "code",
   "execution_count": 25,
   "id": "3f1c6571-60c5-45be-af76-3f9c69df7fdb",
   "metadata": {},
   "outputs": [],
   "source": [
    "from torch.utils.data import Dataset,DataLoader\n",
    "class ChatDataset(Dataset):\n",
    "    # def __init__(self):\n",
    "    #     self.NSample = len(XTrain)\n",
    "    #     self.XData = XTrain\n",
    "    #     self.YData = YTrain\n",
    "\n",
    "    # def __getitem__(self,index):\n",
    "    #     return self.XData[index],self.YData[index]\n",
    "\n",
    "    def __init__(self):\n",
    "        self.NSample = len(XTrain)\n",
    "        self.XData = XTrain\n",
    "        self.YData = YTrain\n",
    "\n",
    "    def __getitem__(self, index):\n",
    "        return self.XData[index], self.YData[index]\n",
    "\n",
    "    def __len__(self):\n",
    "        return self.NSample"
   ]
  },
  {
   "cell_type": "code",
   "execution_count": 26,
   "id": "db481a66-6536-4425-9adf-a6579cfd6a57",
   "metadata": {},
   "outputs": [
    {
     "name": "stdout",
     "output_type": "stream",
     "text": [
      "<torch.utils.data.dataloader.DataLoader object at 0x0000025ADB8B37A0>\n"
     ]
    }
   ],
   "source": [
    "BatchSize = 5 #8\n",
    "DataSet = ChatDataset()\n",
    "\n",
    "TrainLoader = DataLoader(dataset=DataSet, batch_size=BatchSize, shuffle=True)\n",
    "print(TrainLoader)"
   ]
  },
  {
   "cell_type": "code",
   "execution_count": 27,
   "id": "3c1d686f-0d6f-4212-ba18-a99e8f2be0ef",
   "metadata": {},
   "outputs": [],
   "source": [
    "%run Model.ipynb import NeuralNet"
   ]
  },
  {
   "cell_type": "code",
   "execution_count": 28,
   "id": "c6c8518b-f682-473a-b050-b0833fe6a332",
   "metadata": {},
   "outputs": [
    {
     "name": "stdout",
     "output_type": "stream",
     "text": [
      "123 8 4\n",
      "cuda\n"
     ]
    }
   ],
   "source": [
    "InputSize = len(AllWords)\n",
    "HiddenSize =  8 #15\n",
    "NumClasses = len(Tags)\n",
    "print(InputSize, HiddenSize, NumClasses)\n",
    "\n",
    "Device = torch.device(\"cuda\" if torch.cuda.is_available() else \"cpu\")\n",
    "Model = NeuralNet(InputSize, HiddenSize, NumClasses).to(Device)\n",
    "print(Device)"
   ]
  },
  {
   "cell_type": "code",
   "execution_count": 29,
   "id": "65c1be40-30fb-473a-a4ae-eb849d533a2b",
   "metadata": {},
   "outputs": [
    {
     "name": "stdout",
     "output_type": "stream",
     "text": [
      "Epoch [100/1000], Loss: 1.3121\n",
      "Epoch [200/1000], Loss: 0.6669\n",
      "Epoch [300/1000], Loss: 0.6256\n",
      "Epoch [400/1000], Loss: 0.1600\n",
      "Epoch [500/1000], Loss: 0.0241\n",
      "Epoch [600/1000], Loss: 0.0249\n",
      "Epoch [700/1000], Loss: 0.0137\n",
      "Epoch [800/1000], Loss: 0.0054\n",
      "Epoch [900/1000], Loss: 0.0004\n",
      "Epoch [1000/1000], Loss: 0.0242\n",
      "Final Loss , Loss=0.0242\n"
     ]
    }
   ],
   "source": [
    "\n",
    "LearningRate = 0.0001 #0.00001\n",
    "NumEpochs = 1000\n",
    "\n",
    "Criterian = nn.CrossEntropyLoss()\n",
    "Optimizer = torch.optim.Adam(Model.parameters(), lr=LearningRate)\n",
    "\n",
    "for Epochs in range(NumEpochs):\n",
    "    for (Words,Labels) in TrainLoader:\n",
    "        Words = Words.to(Device)\n",
    "        Labels = Labels.to(Device).long()    \n",
    "\n",
    "        Output = Model(Words)\n",
    "        Loss = Criterian(Output, Labels)\n",
    "\n",
    "        Optimizer.zero_grad()\n",
    "        Loss.backward()\n",
    "        Optimizer.step()\n",
    "\n",
    "    if(Epochs + 1) % 100 == 0 :\n",
    "        print(f'Epoch [{Epochs+1}/{NumEpochs}], Loss: {Loss.item():.4f}')\n",
    "        \n",
    "print(f\"Final Loss , Loss={Loss.item():.4f}\")"
   ]
  },
  {
   "cell_type": "code",
   "execution_count": 30,
   "id": "bf85115f-676a-4342-8003-e6335a998cbd",
   "metadata": {},
   "outputs": [
    {
     "name": "stdout",
     "output_type": "stream",
     "text": [
      "training complete. file saved to data.pth\n"
     ]
    }
   ],
   "source": [
    "data = {\n",
    "\"model_state\": Model.state_dict(),\n",
    "\"input_size\": InputSize,\n",
    "\"hidden_size\": HiddenSize,\n",
    "\"output_size\": NumClasses,\n",
    "\"all_words\": AllWords,\n",
    "\"tags\": Tags\n",
    "}\n",
    "\n",
    "FILE = \"data.pth\"\n",
    "torch.save(data, FILE)\n",
    "\n",
    "print(f'training complete. file saved to {FILE}')"
   ]
  },
  {
   "cell_type": "code",
   "execution_count": null,
   "id": "69d3a63d-0b57-402d-b111-ece88f2d9870",
   "metadata": {},
   "outputs": [],
   "source": []
  }
 ],
 "metadata": {
  "kernelspec": {
   "display_name": "Python 3 (ipykernel)",
   "language": "python",
   "name": "python3"
  },
  "language_info": {
   "codemirror_mode": {
    "name": "ipython",
    "version": 3
   },
   "file_extension": ".py",
   "mimetype": "text/x-python",
   "name": "python",
   "nbconvert_exporter": "python",
   "pygments_lexer": "ipython3",
   "version": "3.12.4"
  }
 },
 "nbformat": 4,
 "nbformat_minor": 5
}
