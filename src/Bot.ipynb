{
 "cells": [
  {
   "cell_type": "code",
   "execution_count": 35,
   "id": "5cb59dcd-9567-4ce3-ac2f-7db9c59c7954",
   "metadata": {},
   "outputs": [
    {
     "data": {
      "text/plain": [
       "['top', '20', 'veg', 'restaurant']"
      ]
     },
     "execution_count": 35,
     "metadata": {},
     "output_type": "execute_result"
    }
   ],
   "source": [
    "sentence"
   ]
  },
  {
   "cell_type": "code",
   "execution_count": null,
   "id": "5ada789b-33ca-4ad3-b28e-8c6c41bfb990",
   "metadata": {},
   "outputs": [],
   "source": []
  },
  {
   "cell_type": "code",
   "execution_count": 36,
   "id": "913d31af-e569-4c01-bdf6-1c2c9db6aa7d",
   "metadata": {},
   "outputs": [
    {
     "name": "stdout",
     "output_type": "stream",
     "text": [
      "10 5\n",
      "5 5\n",
      "5\n"
     ]
    }
   ],
   "source": [
    "Limit = 10\n",
    "for i in \"top 5 Veg biryani restaurants near me?\":\n",
    "    if (i.isdigit()):\n",
    "        if(int(i) <= Limit and int(i) > 0):\n",
    "            print(Limit,i)\n",
    "            Limit = i\n",
    "            print(Limit,i)\n",
    "        else:\n",
    "            print(\"Thank you for your request! I can recommend up to 10 restaurants, so here are the top 10 based on your request.\\n\")\n",
    "print(Limit)"
   ]
  },
  {
   "cell_type": "code",
   "execution_count": null,
   "id": "8b2fd012-e5fd-4585-ace7-dded6f645bdc",
   "metadata": {},
   "outputs": [
    {
     "name": "stderr",
     "output_type": "stream",
     "text": [
      "C:\\Users\\SAYEERAM\\AppData\\Local\\Temp\\ipykernel_2112\\2063284799.py:15: FutureWarning: You are using `torch.load` with `weights_only=False` (the current default value), which uses the default pickle module implicitly. It is possible to construct malicious pickle data which will execute arbitrary code during unpickling (See https://github.com/pytorch/pytorch/blob/main/SECURITY.md#untrusted-models for more details). In a future release, the default value for `weights_only` will be flipped to `True`. This limits the functions that could be executed during unpickling. Arbitrary objects will no longer be allowed to be loaded via this mode unless they are explicitly allowlisted by the user via `torch.serialization.add_safe_globals`. We recommend you start setting `weights_only=True` for any use case where you don't have full control of the loaded file. Please open an issue on GitHub for any issues related to this experimental feature.\n",
      "  data = torch.load(FILE)\n"
     ]
    },
    {
     "name": "stdout",
     "output_type": "stream",
     "text": [
      "Let's chat! (type 'quit' to exit)\n"
     ]
    },
    {
     "name": "stdin",
     "output_type": "stream",
     "text": [
      "You:  veg\n"
     ]
    },
    {
     "name": "stdout",
     "output_type": "stream",
     "text": [
      "Prob :  tensor(0.4040, device='cuda:0', grad_fn=<SelectBackward0>)\n",
      "Sam: I do not understand...\n"
     ]
    },
    {
     "name": "stdin",
     "output_type": "stream",
     "text": [
      "You:  biryani\n"
     ]
    },
    {
     "name": "stdout",
     "output_type": "stream",
     "text": [
      "Prob :  tensor(0.3520, device='cuda:0', grad_fn=<SelectBackward0>)\n",
      "Sam: I do not understand...\n"
     ]
    },
    {
     "name": "stdin",
     "output_type": "stream",
     "text": [
      "You:  top 20 veg restaurant\n"
     ]
    },
    {
     "name": "stdout",
     "output_type": "stream",
     "text": [
      "Thank you for your request! I can recommend up to 10 restaurants, so here are the top 10 based on your request.\n",
      "\n",
      "Prob :  tensor(0.4686, device='cuda:0', grad_fn=<SelectBackward0>)\n",
      "Sam: I do not understand...\n"
     ]
    },
    {
     "name": "stdin",
     "output_type": "stream",
     "text": [
      "You:  veg restaurant\n"
     ]
    },
    {
     "name": "stdout",
     "output_type": "stream",
     "text": [
      "Prob :  tensor(0.3183, device='cuda:0', grad_fn=<SelectBackward0>)\n",
      "Sam: I do not understand...\n"
     ]
    },
    {
     "name": "stdin",
     "output_type": "stream",
     "text": [
      "You:  veg restaurants near me\n"
     ]
    },
    {
     "name": "stdout",
     "output_type": "stream",
     "text": [
      "Prob :  tensor(0.5381, device='cuda:0', grad_fn=<SelectBackward0>)\n",
      "Sam: I do not understand...\n"
     ]
    },
    {
     "name": "stdin",
     "output_type": "stream",
     "text": [
      "You:  top 20 veg restaurant near me\n"
     ]
    },
    {
     "name": "stdout",
     "output_type": "stream",
     "text": [
      "Thank you for your request! I can recommend up to 10 restaurants, so here are the top 10 based on your request.\n",
      "\n",
      "Prob :  tensor(0.5930, device='cuda:0', grad_fn=<SelectBackward0>)\n",
      "Sam: I do not understand...\n"
     ]
    },
    {
     "name": "stdin",
     "output_type": "stream",
     "text": [
      "You:  veg restaurants near me\n"
     ]
    },
    {
     "name": "stdout",
     "output_type": "stream",
     "text": [
      "Prob :  tensor(0.5381, device='cuda:0', grad_fn=<SelectBackward0>)\n",
      "Sam: I do not understand...\n"
     ]
    },
    {
     "name": "stdin",
     "output_type": "stream",
     "text": [
      "You:  Where can I get the best veg biryani?\n"
     ]
    },
    {
     "name": "stdout",
     "output_type": "stream",
     "text": [
      "Prob :  tensor(0.9501, device='cuda:0', grad_fn=<SelectBackward0>)\n",
      "Sam: Here are some popular veg biryani spots you might enjoy:\n",
      "1. Sangeetha Veg Restaurant\n",
      "2. Annalakshmi\n",
      "3. Saravana Bhavan\n",
      "4. Aasai Biryani\n",
      "5. Veg Biryani House\n",
      "6. Ambur Star Biryani (Veg)\n",
      "7. Hotel New Woodlands\n",
      "8. Biryani Zone\n",
      "9. Thalappakatti (Veg)\n",
      "10. The Veggie Affair\n"
     ]
    }
   ],
   "source": [
    "import random\n",
    "import json\n",
    "\n",
    "import torch\n",
    "\n",
    "%run Model.ipynb import NeuralNet\n",
    "%run NLTK.ipynb import Tokenize,BagOfWord\n",
    "\n",
    "device = torch.device('cuda' if torch.cuda.is_available() else 'cpu')\n",
    "\n",
    "with open('Data.json', 'r') as json_data:\n",
    "    intents = json.load(json_data)\n",
    "\n",
    "FILE = \"data.pth\"\n",
    "data = torch.load(FILE)\n",
    "\n",
    "input_size = data[\"input_size\"]\n",
    "hidden_size = data[\"hidden_size\"]\n",
    "output_size = data[\"output_size\"]\n",
    "all_words = data['all_words']\n",
    "tags = data['tags']\n",
    "model_state = data[\"model_state\"]\n",
    "\n",
    "model = NeuralNet(input_size, hidden_size, output_size).to(device)\n",
    "model.load_state_dict(model_state)\n",
    "model.eval()\n",
    "\n",
    "bot_name = \"Sam\"\n",
    "print(\"Let's chat! (type 'quit' to exit)\")\n",
    "while True:\n",
    "    # sentence = \"do you use credit cards?\"\n",
    "    sentence = input(\"You: \")\n",
    "    if sentence == \"quit\":\n",
    "        break\n",
    "    \n",
    "    sentence = Tokenize(sentence)\n",
    "    Limit = 10\n",
    "    for i in sentence:\n",
    "        if (i.isdigit()):\n",
    "            if(int(i) <= Limit and int(i) > 0):\n",
    "                Limit = i\n",
    "            else:\n",
    "                print(\"Thank you for your request! I can recommend up to 10 restaurants, so here are the top 10 based on your request.\\n\")\n",
    "            \n",
    "    X = BagOfWord(sentence, all_words)\n",
    "    X = X.reshape(1, X.shape[0])\n",
    "    X = torch.from_numpy(X).to(device)\n",
    "\n",
    "    output = model(X)\n",
    "    _, predicted = torch.max(output, dim=1)\n",
    "\n",
    "    tag = tags[predicted.item()]\n",
    "\n",
    "    probs = torch.softmax(output, dim=1)\n",
    "    prob = probs[0][predicted.item()]\n",
    "    print(\"Prob : \",prob)\n",
    "    if prob.item() > 0.75:\n",
    "        for intent in intents['Data']:\n",
    "            if tag == intent[\"tag\"]:\n",
    "                responce = random.choice(intent['responses'])\n",
    "                print(f\"{bot_name}: \",end=\"\")\n",
    "                if isinstance(responce, list):\n",
    "                    for i in range(int(Limit)+1):\n",
    "                        print(responce[i])\n",
    "                else:\n",
    "                    print(responce)\n",
    "                # print(f\"{bot_name}: {random.choice(intent['responses'])}\")\n",
    "    else:\n",
    "        print(f\"{bot_name}: I do not understand...\")"
   ]
  },
  {
   "cell_type": "code",
   "execution_count": null,
   "id": "d8025363-1c78-42b7-b8be-ca6f4f936d15",
   "metadata": {},
   "outputs": [],
   "source": []
  }
 ],
 "metadata": {
  "kernelspec": {
   "display_name": "Python 3 (ipykernel)",
   "language": "python",
   "name": "python3"
  },
  "language_info": {
   "codemirror_mode": {
    "name": "ipython",
    "version": 3
   },
   "file_extension": ".py",
   "mimetype": "text/x-python",
   "name": "python",
   "nbconvert_exporter": "python",
   "pygments_lexer": "ipython3",
   "version": "3.12.4"
  }
 },
 "nbformat": 4,
 "nbformat_minor": 5
}
